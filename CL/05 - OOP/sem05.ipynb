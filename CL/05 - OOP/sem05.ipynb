{
 "cells": [
  {
   "cell_type": "markdown",
   "id": "dc34e49d-531e-47dc-ba78-b02f644ce2ff",
   "metadata": {},
   "source": [
    "#### Задача 1. \n",
    "\n",
    "Реализуйте для класса Human метод \\_\\_bool\\_\\_, который будет проверять нашего человека на совершеннолетие. "
   ]
  },
  {
   "cell_type": "code",
   "execution_count": null,
   "id": "1b6137fa-b8fd-4a9c-b809-a6cf1fb3b5bf",
   "metadata": {},
   "outputs": [],
   "source": [
    "# your code here"
   ]
  },
  {
   "cell_type": "markdown",
   "id": "1982316a-fb7a-4bca-820b-22aef8be5ceb",
   "metadata": {},
   "source": [
    "#### Задача 2. \n",
    "\n",
    "Напишите класс Token, у которого будут в атрибутах храниться сама словоформа, лемма и часть речи, а также в виде списка - набор грамматических характеристик (род, число...). Грамматическая характеристика - это тоже (очень простенький) класс, у которого в атрибутах есть его название и значение. "
   ]
  },
  {
   "cell_type": "code",
   "execution_count": null,
   "id": "4a4865ff-bc02-4607-a353-7cbca6eb290c",
   "metadata": {},
   "outputs": [],
   "source": [
    "class Token:\n",
    "    # your code here\n",
    "    def __str__(self):\n",
    "        # your code here\n",
    "        \n",
    "    def __repr__(self):\n",
    "        # your code here\n",
    "    \n",
    "    def __str__(self):\n",
    "        # your code here"
   ]
  },
  {
   "cell_type": "markdown",
   "id": "76f98ef1-b10c-4bc1-a15b-55553e5d52fb",
   "metadata": {},
   "source": [
    "#### Задача 3. \n",
    "\n",
    "А теперь напишем класс Sentence. В атрибутах этого класса должен храниться исходный текст предложения (просто строка), а также список объектов класса Token. У предложения должен быть метод, который возвращает TTR (Token Type Ratio - количество уникальных токенов / количество всех токенов). Переопределите магический метод \\_\\_len\\_\\_ таким образом, чтобы он возвращал длину предложения в токенах. "
   ]
  },
  {
   "cell_type": "code",
   "execution_count": null,
   "id": "0e43a95c-38ac-496c-be41-38a0107819a8",
   "metadata": {},
   "outputs": [],
   "source": [
    "class Sentence:\n",
    "    def __init__(self, text, tokens):\n",
    "        # your code here\n",
    "        \n",
    "    def __str__(self):\n",
    "        # your code here\n",
    "        \n",
    "    def __repr__(self):\n",
    "        # your code here\n",
    "    \n",
    "    def __len__(self):\n",
    "        # your code here \n",
    "    \n",
    "    def ttr(self):\n",
    "        # your code here"
   ]
  },
  {
   "cell_type": "markdown",
   "id": "1c7892a0-4cb3-43cb-9239-4a64b4a37f29",
   "metadata": {},
   "source": [
    "#### Задача 4 (2 балла). \n",
    "\n",
    "Представим себе, что мы хотим написать игрушку, в которой главный персонаж ходит по карте и с каждым броском кубика ему выпадают разнообразные предметы, с которыми он может взаимодействовать. Нам, очевидно, понадобится хранить все результаты взаимодействия в классе персонажа, а также написать хотя бы три различных предмета, которые умеют делать разные вещи (пусть будет волшебное зелье, книжка, прибавляющая мудрость, и медвежий капкан; можете что-то свое придумать). У персонажа есть свои характеристики, которые тоже могут влиять на результат взаимодействия с вещами (очень тупой персонаж может не смочь прочитать книжку...). \n",
    "\n",
    "Бонусный балл: напишите класс для карты, у которого будет метод с собственно циклом, где кидается наш \"кубик\" и персонаж перемещается, подбирая предметы. \n",
    "\n",
    "Для рандомизации используем библиотеку random. Также можно использовать функцию sleep из библиотеки time: эта функция заставляет компьютер ждать x секунд. "
   ]
  },
  {
   "cell_type": "code",
   "execution_count": null,
   "id": "fe26460e-b5b6-4060-b582-d47b8d75fee7",
   "metadata": {
    "tags": []
   },
   "outputs": [],
   "source": [
    "from random import randint # функция генерирует любое случайное число от х до у: randint(x, y)\n",
    "from time import sleep # sleep(1) - ждать 1 секунду\n",
    "\n",
    "class Hero:\n",
    "    def __init__(self, *args): # замените *args на свои параметры\n",
    "        # your code here\n",
    "        \n",
    "    def __repr__(self):\n",
    "        # your code here\n",
    "    \n",
    "    def interact(self, obj):\n",
    "        # your code here\n",
    "        \n",
    "class Potion:\n",
    "    def __init__(self, *args):\n",
    "        # your code here \n",
    "        \n",
    "    def __repr__(self):\n",
    "        #your code here \n",
    "        \n",
    "...\n",
    "\n",
    "class Map:\n",
    "    def __init__(self):\n",
    "        self.hero = Hero()\n",
    "        # your code here \n",
    "        \n",
    "    def travel(self):\n",
    "        # your code here\n",
    "    \n",
    "    "
   ]
  }
 ],
 "metadata": {
  "kernelspec": {
   "display_name": "Python 3 (ipykernel)",
   "language": "python",
   "name": "python3"
  },
  "language_info": {
   "codemirror_mode": {
    "name": "ipython",
    "version": 3
   },
   "file_extension": ".py",
   "mimetype": "text/x-python",
   "name": "python",
   "nbconvert_exporter": "python",
   "pygments_lexer": "ipython3",
   "version": "3.11.5"
  }
 },
 "nbformat": 4,
 "nbformat_minor": 5
}
